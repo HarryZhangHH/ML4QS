{
 "cells": [
  {
   "cell_type": "code",
   "execution_count": 495,
   "metadata": {},
   "outputs": [],
   "source": [
    "import os, sys\n",
    "import glob\n",
    "import copy\n",
    "import random\n",
    "import numpy as np\n",
    "import pandas as pd\n",
    "import matplotlib\n",
    "import matplotlib.pyplot as plt\n",
    "import seaborn as sns\n",
    "from sklearn.model_selection import KFold, train_test_split\n",
    "from sklearn.metrics import accuracy_score, confusion_matrix, matthews_corrcoef, plot_confusion_matrix, f1_score, silhouette_score\n",
    "from sklearn.feature_selection import mutual_info_regression\n",
    "from sklearn.tree import DecisionTreeClassifier\n",
    "from sklearn.preprocessing import MinMaxScaler\n",
    "from sklearn.cluster import KMeans\n",
    "from sklearn.manifold import TSNE\n",
    "from yellowbrick.cluster import SilhouetteVisualizer\n",
    "from lightgbm import LGBMClassifier\n",
    "from sklearn.neural_network import MLPClassifier"
   ]
  },
  {
   "cell_type": "code",
   "execution_count": 2,
   "metadata": {},
   "outputs": [],
   "source": [
    "matplotlib.rcParams['figure.figsize'] = (20.0, 10.0) # I like big figures!"
   ]
  },
  {
   "cell_type": "markdown",
   "metadata": {},
   "source": [
    "Load Data\n",
    "\n",
    "We have 33 features after the initial selection"
   ]
  },
  {
   "cell_type": "code",
   "execution_count": 181,
   "metadata": {},
   "outputs": [
    {
     "data": {
      "text/html": [
       "<div>\n",
       "<style scoped>\n",
       "    .dataframe tbody tr th:only-of-type {\n",
       "        vertical-align: middle;\n",
       "    }\n",
       "\n",
       "    .dataframe tbody tr th {\n",
       "        vertical-align: top;\n",
       "    }\n",
       "\n",
       "    .dataframe thead th {\n",
       "        text-align: right;\n",
       "    }\n",
       "</style>\n",
       "<table border=\"1\" class=\"dataframe\">\n",
       "  <thead>\n",
       "    <tr style=\"text-align: right;\">\n",
       "      <th></th>\n",
       "      <th>acc_userAcceleration.x</th>\n",
       "      <th>acc_userAcceleration.y</th>\n",
       "      <th>att_attitude.roll</th>\n",
       "      <th>gra_gravity.x</th>\n",
       "      <th>gra_gravity.z</th>\n",
       "      <th>rot_rotationRate.x</th>\n",
       "      <th>rot_rotationRate.z</th>\n",
       "      <th>labellabelDownstairs</th>\n",
       "      <th>labellabelUpstairs</th>\n",
       "      <th>labellabelSitting</th>\n",
       "      <th>...</th>\n",
       "      <th>acc_userAcceleration.x_freq_75.0_Hz_ws_40</th>\n",
       "      <th>gra_gravity.x_pse</th>\n",
       "      <th>mag_acc</th>\n",
       "      <th>mag_att</th>\n",
       "      <th>mag_gra</th>\n",
       "      <th>mag_rot</th>\n",
       "      <th>labelcheck</th>\n",
       "      <th>labelcompute</th>\n",
       "      <th>label</th>\n",
       "      <th>id</th>\n",
       "    </tr>\n",
       "  </thead>\n",
       "  <tbody>\n",
       "    <tr>\n",
       "      <th>0</th>\n",
       "      <td>0.120394</td>\n",
       "      <td>0.073186</td>\n",
       "      <td>1.485272</td>\n",
       "      <td>0.759032</td>\n",
       "      <td>-0.065309</td>\n",
       "      <td>0.271613</td>\n",
       "      <td>0.246186</td>\n",
       "      <td>1</td>\n",
       "      <td>0</td>\n",
       "      <td>0</td>\n",
       "      <td>...</td>\n",
       "      <td>NaN</td>\n",
       "      <td>NaN</td>\n",
       "      <td>0.158767</td>\n",
       "      <td>1.773834</td>\n",
       "      <td>0.999518</td>\n",
       "      <td>0.406739</td>\n",
       "      <td>1</td>\n",
       "      <td>1</td>\n",
       "      <td>0</td>\n",
       "      <td>0</td>\n",
       "    </tr>\n",
       "    <tr>\n",
       "      <th>1</th>\n",
       "      <td>0.158282</td>\n",
       "      <td>0.029078</td>\n",
       "      <td>1.383779</td>\n",
       "      <td>0.577316</td>\n",
       "      <td>-0.108405</td>\n",
       "      <td>-0.528543</td>\n",
       "      <td>0.026445</td>\n",
       "      <td>1</td>\n",
       "      <td>0</td>\n",
       "      <td>0</td>\n",
       "      <td>...</td>\n",
       "      <td>NaN</td>\n",
       "      <td>NaN</td>\n",
       "      <td>0.163537</td>\n",
       "      <td>1.955130</td>\n",
       "      <td>1.003875</td>\n",
       "      <td>1.178443</td>\n",
       "      <td>1</td>\n",
       "      <td>1</td>\n",
       "      <td>0</td>\n",
       "      <td>0</td>\n",
       "    </tr>\n",
       "    <tr>\n",
       "      <th>2</th>\n",
       "      <td>0.165223</td>\n",
       "      <td>-0.087488</td>\n",
       "      <td>1.533631</td>\n",
       "      <td>0.647822</td>\n",
       "      <td>-0.026788</td>\n",
       "      <td>0.387711</td>\n",
       "      <td>0.185151</td>\n",
       "      <td>1</td>\n",
       "      <td>0</td>\n",
       "      <td>0</td>\n",
       "      <td>...</td>\n",
       "      <td>NaN</td>\n",
       "      <td>NaN</td>\n",
       "      <td>0.206415</td>\n",
       "      <td>2.982116</td>\n",
       "      <td>0.998698</td>\n",
       "      <td>0.536272</td>\n",
       "      <td>1</td>\n",
       "      <td>1</td>\n",
       "      <td>0</td>\n",
       "      <td>0</td>\n",
       "    </tr>\n",
       "    <tr>\n",
       "      <th>3</th>\n",
       "      <td>0.242239</td>\n",
       "      <td>-0.124033</td>\n",
       "      <td>1.439122</td>\n",
       "      <td>0.616566</td>\n",
       "      <td>-0.095656</td>\n",
       "      <td>-1.052592</td>\n",
       "      <td>0.942906</td>\n",
       "      <td>1</td>\n",
       "      <td>0</td>\n",
       "      <td>0</td>\n",
       "      <td>...</td>\n",
       "      <td>-0.197392</td>\n",
       "      <td>0.0</td>\n",
       "      <td>0.299079</td>\n",
       "      <td>2.040894</td>\n",
       "      <td>0.986333</td>\n",
       "      <td>2.767121</td>\n",
       "      <td>1</td>\n",
       "      <td>1</td>\n",
       "      <td>0</td>\n",
       "      <td>0</td>\n",
       "    </tr>\n",
       "    <tr>\n",
       "      <th>4</th>\n",
       "      <td>-0.026037</td>\n",
       "      <td>0.129787</td>\n",
       "      <td>1.285698</td>\n",
       "      <td>0.862960</td>\n",
       "      <td>-0.256881</td>\n",
       "      <td>0.029200</td>\n",
       "      <td>0.267611</td>\n",
       "      <td>1</td>\n",
       "      <td>0</td>\n",
       "      <td>0</td>\n",
       "      <td>...</td>\n",
       "      <td>0.082588</td>\n",
       "      <td>0.0</td>\n",
       "      <td>0.185384</td>\n",
       "      <td>1.480323</td>\n",
       "      <td>0.983567</td>\n",
       "      <td>1.614579</td>\n",
       "      <td>1</td>\n",
       "      <td>1</td>\n",
       "      <td>0</td>\n",
       "      <td>0</td>\n",
       "    </tr>\n",
       "  </tbody>\n",
       "</table>\n",
       "<p>5 rows × 40 columns</p>\n",
       "</div>"
      ],
      "text/plain": [
       "   acc_userAcceleration.x  acc_userAcceleration.y  att_attitude.roll  \\\n",
       "0                0.120394                0.073186           1.485272   \n",
       "1                0.158282                0.029078           1.383779   \n",
       "2                0.165223               -0.087488           1.533631   \n",
       "3                0.242239               -0.124033           1.439122   \n",
       "4               -0.026037                0.129787           1.285698   \n",
       "\n",
       "   gra_gravity.x  gra_gravity.z  rot_rotationRate.x  rot_rotationRate.z  \\\n",
       "0       0.759032      -0.065309            0.271613            0.246186   \n",
       "1       0.577316      -0.108405           -0.528543            0.026445   \n",
       "2       0.647822      -0.026788            0.387711            0.185151   \n",
       "3       0.616566      -0.095656           -1.052592            0.942906   \n",
       "4       0.862960      -0.256881            0.029200            0.267611   \n",
       "\n",
       "   labellabelDownstairs  labellabelUpstairs  labellabelSitting  ...  \\\n",
       "0                     1                   0                  0  ...   \n",
       "1                     1                   0                  0  ...   \n",
       "2                     1                   0                  0  ...   \n",
       "3                     1                   0                  0  ...   \n",
       "4                     1                   0                  0  ...   \n",
       "\n",
       "   acc_userAcceleration.x_freq_75.0_Hz_ws_40  gra_gravity.x_pse   mag_acc  \\\n",
       "0                                        NaN                NaN  0.158767   \n",
       "1                                        NaN                NaN  0.163537   \n",
       "2                                        NaN                NaN  0.206415   \n",
       "3                                  -0.197392                0.0  0.299079   \n",
       "4                                   0.082588                0.0  0.185384   \n",
       "\n",
       "    mag_att   mag_gra   mag_rot  labelcheck  labelcompute  label  id  \n",
       "0  1.773834  0.999518  0.406739           1             1      0   0  \n",
       "1  1.955130  1.003875  1.178443           1             1      0   0  \n",
       "2  2.982116  0.998698  0.536272           1             1      0   0  \n",
       "3  2.040894  0.986333  2.767121           1             1      0   0  \n",
       "4  1.480323  0.983567  1.614579           1             1      0   0  \n",
       "\n",
       "[5 rows x 40 columns]"
      ]
     },
     "execution_count": 181,
     "metadata": {},
     "output_type": "execute_result"
    }
   ],
   "source": [
    "# read file\n",
    "path = r'FE_selected_features'                     # use your path\n",
    "# all_files = glob.glob(os.path.join(path, \"*.csv\"))     # advisable to use os.path.join as this makes concatenation OS independent\n",
    "# df_from_each_file = (pd.read_csv(f) for f in all_files)\n",
    "\n",
    "all_files = glob.glob(os.path.join(path , \"*.csv\"))\n",
    "li = []\n",
    "for filename in all_files:\n",
    "    id = filename.split('dataset_')[1].split('.0_')[0]\n",
    "    df = pd.read_csv(filename, index_col=0, header=0)\n",
    "    df['id'] = int(id)\n",
    "    li.append(df)\n",
    "df = pd.concat(li, axis=0, ignore_index=True)\n",
    "df = df.drop(['Unnamed: 0'], axis=1)\n",
    "\n",
    "act_dict = {'Downstairs': 0,\n",
    "            'Upstairs': 1,\n",
    "            'Walking': 2,\n",
    "            'Jogging': 3,\n",
    "            'Standing': 4,\n",
    "            'Sitting': 5}\n",
    "df['label'] =  df.label.apply(lambda label: act_dict[label])\n",
    "df.drop(columns=['labelcheck', 'labelcompute'], inplace=True)\n",
    "df.fillna(0, inplace=True)\n",
    "df.head()"
   ]
  },
  {
   "cell_type": "code",
   "execution_count": 182,
   "metadata": {},
   "outputs": [],
   "source": [
    "check = 'labellabel'\n",
    "sub = '_label'\n",
    "cols = df.columns.tolist()\n",
    "cols = [i.split(check)[1] + sub if check in i else i for i in cols]\n",
    "labels = [i for i in cols if sub in i]\n",
    "df.columns = cols"
   ]
  },
  {
   "cell_type": "code",
   "execution_count": 137,
   "metadata": {},
   "outputs": [
    {
     "data": {
      "text/plain": [
       "Index(['acc_userAcceleration.x', 'acc_userAcceleration.y', 'att_attitude.roll',\n",
       "       'gra_gravity.x', 'gra_gravity.z', 'rot_rotationRate.x',\n",
       "       'rot_rotationRate.z', 'Downstairs_label', 'Upstairs_label',\n",
       "       'Sitting_label', 'Standing_label', 'Walking_label', 'Jogging_label',\n",
       "       'pca_3', 'pca_4', 'pca_5', 'pca_6', 'pca_7',\n",
       "       'acc_userAcceleration.y_temp_std_ws_30',\n",
       "       'acc_userAcceleration.y_temp_median_ws_30',\n",
       "       'att_attitude.roll_temp_median_ws_30',\n",
       "       'att_attitude.roll_temp_median_ws_30.1', 'pca_6_temp_std_ws_30',\n",
       "       'gra_gravity.z_temp_median_ws_30', 'pca_4_temp_std_ws_30',\n",
       "       'rot_rotationRate.x_temp_std_ws_30',\n",
       "       'rot_rotationRate.z_temp_std_ws_30', 'rot_rotationRate.z_freq_weighted',\n",
       "       'att_attitude.yaw_pse', 'rot_rotationRate.x_freq_75.0_Hz_ws_40',\n",
       "       'acc_userAcceleration.x_freq_75.0_Hz_ws_40', 'gra_gravity.x_pse',\n",
       "       'mag_acc', 'mag_att', 'mag_gra', 'mag_rot', 'labelcheck',\n",
       "       'labelcompute', 'label', 'id'],\n",
       "      dtype='object')"
      ]
     },
     "execution_count": 137,
     "metadata": {},
     "output_type": "execute_result"
    }
   ],
   "source": [
    "df.columns"
   ]
  },
  {
   "cell_type": "markdown",
   "metadata": {},
   "source": [
    "# Feature selection and Train-test split"
   ]
  },
  {
   "cell_type": "code",
   "execution_count": 133,
   "metadata": {},
   "outputs": [
    {
     "name": "stdout",
     "output_type": "stream",
     "text": [
      "3\n",
      "[14, 22, 11]\n"
     ]
    }
   ],
   "source": [
    "# decide which person's data are taken out to test set\n",
    "flag = True\n",
    "while flag:\n",
    "    index = np.round(np.random.random((3,1))*23).astype(int)\n",
    "    mask = np.unique(index)\n",
    "    print(mask.shape[0])\n",
    "    if mask.shape[0] == 3:\n",
    "        flag = False\n",
    "index = index.squeeze().tolist()\n",
    "print(index)"
   ]
  },
  {
   "cell_type": "code",
   "execution_count": 265,
   "metadata": {},
   "outputs": [],
   "source": [
    "# split all dataset into subset, we have 24 subjects data, we separate 3 subjects' all data into test1.csv\n",
    "# split data of 6 labels from each of the rest 21 subjects' data and sample them using 8:2 ratio into test2.csv \n",
    "# the rest is the training dataset\n",
    "def train_test_spl(df_all, fname, index):\n",
    "    df_test1 = df_all[df_all.id.isin(index)].reset_index(drop=True)\n",
    "    df_train = df_all[~df_all.id.isin(index)]\n",
    "    print(f'all:{df_all.shape}, train 1: {df_train.shape}, test 1: {df_test1.shape}')\n",
    "\n",
    "    test = []\n",
    "    for i in df_train.id.unique():\n",
    "        df_subtrain = df_train[df_train.id == i]\n",
    "        for j in labels:\n",
    "            df_subsub = df_subtrain[df_subtrain[j] == 1]\n",
    "            df_subtest = df_subsub.sample(frac=0.2)\n",
    "            test.append(df_subtest)\n",
    "    df_test2 = pd.concat(test, axis=0, ignore_index=False)\n",
    "    df_train = df_train[~df_train.index.isin(df_test2.index)]\n",
    "    print(df_train.id.nunique(), df_test2.id.nunique())\n",
    "    print(f'all:{df_all.shape}, train 2: {df_train.shape}, test 2: {df_test2.shape}')\n",
    "    df_train, df_test2 = df_train.reset_index(drop=True), df_test2.reset_index(drop=True)\n",
    "    df_train.to_csv(f'{fname}/train.csv', index=False)\n",
    "    df_test1.to_csv(f'{fname}/test1.csv', index=False)\n",
    "    df_test2.to_csv(f'{fname}/test2.csv', index=False)\n",
    "    return df_train, df_test1, df_test2\n",
    "\n",
    "## feature selection based on mutual information and correlation\n",
    "def feature_selection(feature_frame, label):\n",
    "    mutualInfo = mutual_info_regression(feature_frame, label, discrete_features='auto')\n",
    "    mutualInfo_select = pd.Series(data = mutualInfo , index = feature_frame.columns).sort_values(ascending = False)\n",
    "    feature_frame.insert(len(feature_frame.columns),'label',label)#再添加一列\n",
    "    corr = feature_frame.corr()\n",
    "    corr_series = pd.Series(data = corr.iloc[-1,:-1])\n",
    "    corr_sort = corr_series.abs().sort_values(ascending = False)\n",
    "    plt.figure(figsize=(20,10))\n",
    "    sns.barplot(mutualInfo_select.values[:10], mutualInfo_select.index[:10], orient='h')\n",
    "    plt.title(\"Correlation screening based on mutual information\")\n",
    "    plt.savefig('images/feature_mutual_info.png')\n",
    "    plt.show()\n",
    "\n",
    "    plt.figure(figsize=(20,10))\n",
    "    sns.barplot(corr_sort.values[:10], corr_sort.index[:10], orient='h')\n",
    "    plt.title(\"Correlation screening based on correlation coefficient\")\n",
    "    plt.savefig('images/feature_corrlation.png')\n",
    "    plt.show()\n",
    "    return mutualInfo_select.index[:10].to_list(), corr_sort.index[:10].to_list()\n",
    "\n",
    "# backward selection\n",
    "def backward_selection(max_features, X_train, y_train):\n",
    "    # First select all features.\n",
    "    selected_features = X_train.columns.tolist()\n",
    "    tree = DecisionTreeClassifier(min_samples_leaf=23, criterion='gini')\n",
    "\n",
    "    # Select from the features that are still in the selection.\n",
    "    for i in range(0, (len(X_train.columns) - max_features)):\n",
    "        worst_perf = np.inf\n",
    "        worst_feature = ''\n",
    "        # Select from the features that are still in the selection.\n",
    "        for f in selected_features:\n",
    "            temp_selected_features = copy.deepcopy(selected_features)\n",
    "            temp_selected_features.remove(f)\n",
    "\n",
    "            tree.fit(X_train[temp_selected_features], y_train.values.ravel())\n",
    "            # Determine the score without the feature.\n",
    "            pred_y_train = tree.predict(X_train[temp_selected_features])\n",
    "            perf = accuracy_score(y_train, pred_y_train)\n",
    "            # If we score better (i.e. a lower mse) without the feature than what we have seen so far\n",
    "            # this is the worst feature.\n",
    "\n",
    "            if perf < worst_perf:\n",
    "                worst_perf = perf\n",
    "                worst_feature = f\n",
    "\n",
    "        # Remove the worst feature.\n",
    "        selected_features.remove(worst_feature)\n",
    "    return selected_features"
   ]
  },
  {
   "cell_type": "code",
   "execution_count": 322,
   "metadata": {},
   "outputs": [
    {
     "name": "stdout",
     "output_type": "stream",
     "text": [
      "all:(10085, 38), train 1: (8889, 38), test 1: (1196, 38)\n",
      "21 21\n",
      "all:(10085, 38), train 2: (7118, 38), test 2: (1771, 38)\n"
     ]
    }
   ],
   "source": [
    "# separate dataset\n",
    "df_train, df_test1, df_test2 = train_test_spl(df, 'data_initial', index)"
   ]
  },
  {
   "cell_type": "code",
   "execution_count": 156,
   "metadata": {},
   "outputs": [
    {
     "data": {
      "text/plain": [
       "Walking       2457\n",
       "Sitting       2420\n",
       "Standing      2181\n",
       "Upstairs      1117\n",
       "Jogging        960\n",
       "Downstairs     950\n",
       "Name: label, dtype: int64"
      ]
     },
     "execution_count": 156,
     "metadata": {},
     "output_type": "execute_result"
    }
   ],
   "source": [
    "df.label.value_counts()"
   ]
  },
  {
   "cell_type": "markdown",
   "metadata": {},
   "source": [
    "Feature selection using mutual information, correlation and backward selecion"
   ]
  },
  {
   "cell_type": "code",
   "execution_count": 328,
   "metadata": {},
   "outputs": [
    {
     "name": "stderr",
     "output_type": "stream",
     "text": [
      "c:\\Users\\HHhou\\AppData\\Local\\Programs\\Python\\Python310\\lib\\site-packages\\seaborn\\_decorators.py:36: FutureWarning: Pass the following variables as keyword args: x, y. From version 0.12, the only valid positional argument will be `data`, and passing other arguments without an explicit keyword will result in an error or misinterpretation.\n",
      "  warnings.warn(\n"
     ]
    },
    {
     "data": {
      "image/png": "[encoded data removed]",
      "text/plain": [
       "<Figure size 1440x720 with 1 Axes>"
      ]
     },
     "metadata": {},
     "output_type": "display_data"
    },
    {
     "name": "stderr",
     "output_type": "stream",
     "text": [
      "c:\\Users\\HHhou\\AppData\\Local\\Programs\\Python\\Python310\\lib\\site-packages\\seaborn\\_decorators.py:36: FutureWarning: Pass the following variables as keyword args: x, y. From version 0.12, the only valid positional argument will be `data`, and passing other arguments without an explicit keyword will result in an error or misinterpretation.\n",
      "  warnings.warn(\n"
     ]
    },
    {
     "data": {
      "image/png": "[encoded data removed]",
      "text/plain": [
       "<Figure size 1440x720 with 1 Axes>"
      ]
     },
     "metadata": {},
     "output_type": "display_data"
    },
    {
     "name": "stdout",
     "output_type": "stream",
     "text": [
      "['rot_rotationRate.z_temp_std_ws_30', 'mag_rot', 'mag_gra', 'acc_userAcceleration.y_temp_median_ws_30', 'pca_6_temp_std_ws_30', 'rot_rotationRate.z_freq_weighted', 'pca_4_temp_std_ws_30', 'rot_rotationRate.x', 'gra_gravity.z_temp_median_ws_30', 'acc_userAcceleration.y_temp_std_ws_30', 'rot_rotationRate.x_temp_std_ws_30', 'acc_userAcceleration.y', 'mag_acc']\n",
      "['id', 'pca_6_temp_std_ws_30', 'rot_rotationRate.z_freq_weighted', 'pca_4_temp_std_ws_30', 'rot_rotationRate.z_temp_std_ws_30', 'rot_rotationRate.x_temp_std_ws_30', 'acc_userAcceleration.y_temp_std_ws_30', 'mag_rot']\n"
     ]
    }
   ],
   "source": [
    "# feature selection\n",
    "df_train.drop(columns=labels, inplace=True)\n",
    "df_test1.drop(columns=labels, inplace=True)\n",
    "df_test2.drop(columns=labels, inplace=True)\n",
    "\n",
    "X, y = df_train.iloc[:,:-2], df_train.iloc[:,-2]\n",
    "feat_list1, feat_list2 = feature_selection(X, y)\n",
    "feat_list = list(set(feat_list1).union(set(feat_list2)))\n",
    "print(feat_list)\n",
    "cluster1_feat =  list(set(feat_list1).intersection(set(feat_list2)))\n",
    "cluster1_feat.insert(0, 'id')\n",
    "print(cluster1_feat)"
   ]
  },
  {
   "cell_type": "markdown",
   "metadata": {},
   "source": [
    "Cluster the self data using KMeans"
   ]
  },
  {
   "cell_type": "code",
   "execution_count": 335,
   "metadata": {},
   "outputs": [],
   "source": [
    "def analysis_cluster_labels(labels):\n",
    "    count = []\n",
    "    for i in range(max(labels)+1):\n",
    "        count.append((labels == i).sum())\n",
    "    print(f' len: {len(count)}, max: {max(count)}, min: {min(count)}, mean: {int(np.mean(count))}, median: {np.median(count)}')\n",
    "\n",
    "def plot_silhouette(df):\n",
    "    fig, ax = plt.subplots(2, 2, figsize=(15,8))\n",
    "    for i in [2, 3, 4, 5]:\n",
    "        '''\n",
    "        Create KMeans instance for different number of clusters\n",
    "        '''\n",
    "        km = KMeans(n_clusters=i, init='k-means++', n_init=10, max_iter=100, random_state=42)\n",
    "        q, mod = divmod(i, 2)\n",
    "        '''\n",
    "        Create SilhouetteVisualizer instance with KMeans instance\n",
    "        Fit the visualizer\n",
    "        '''\n",
    "        visualizer = SilhouetteVisualizer(km, colors='yellowbrick', ax=ax[q-1][mod])\n",
    "        visualizer.fit(df)\n",
    "\n",
    "def scala_data(df):\n",
    "    scaler = MinMaxScaler()\n",
    "    scaler.fit(df)\n",
    "    df_usr_scaled = scaler.transform(df)\n",
    "    return df_usr_scaled, scaler\n"
   ]
  },
  {
   "cell_type": "code",
   "execution_count": 353,
   "metadata": {},
   "outputs": [
    {
     "name": "stdout",
     "output_type": "stream",
     "text": [
      "Cluster user:\n",
      "[1 1 0 1 0 1 0 0 1 2 1 1 1 2 1 0 0 1 1 1 2]\n",
      " len: 3, max: 12, min: 3, mean: 7, median: 6.0\n",
      "Silhouetter Score: 0.328\n",
      "(7118, 33) Index(['acc_userAcceleration.x', 'acc_userAcceleration.y', 'att_attitude.roll',\n",
      "       'gra_gravity.x', 'gra_gravity.z', 'rot_rotationRate.x',\n",
      "       'rot_rotationRate.z', 'pca_3', 'pca_4', 'pca_5', 'pca_6', 'pca_7',\n",
      "       'acc_userAcceleration.y_temp_std_ws_30',\n",
      "       'acc_userAcceleration.y_temp_median_ws_30',\n",
      "       'att_attitude.roll_temp_median_ws_30',\n",
      "       'att_attitude.roll_temp_median_ws_30.1', 'pca_6_temp_std_ws_30',\n",
      "       'gra_gravity.z_temp_median_ws_30', 'pca_4_temp_std_ws_30',\n",
      "       'rot_rotationRate.x_temp_std_ws_30',\n",
      "       'rot_rotationRate.z_temp_std_ws_30', 'rot_rotationRate.z_freq_weighted',\n",
      "       'att_attitude.yaw_pse', 'rot_rotationRate.x_freq_75.0_Hz_ws_40',\n",
      "       'acc_userAcceleration.x_freq_75.0_Hz_ws_40', 'gra_gravity.x_pse',\n",
      "       'mag_acc', 'mag_att', 'mag_gra', 'mag_rot', 'label', 'id',\n",
      "       'usr_cluster'],\n",
      "      dtype='object')\n"
     ]
    },
    {
     "data": {
      "image/png": "[encoded data removed]",
      "text/plain": [
       "<Figure size 1080x576 with 4 Axes>"
      ]
     },
     "metadata": {},
     "output_type": "display_data"
    }
   ],
   "source": [
    "dss = pd.read_csv(\"data_subjects_info.csv\").drop(columns=['code'])\n",
    "df_train_usr = df_train[cluster1_feat].join(dss, on='id', how='left')\n",
    "df_train_usr = df_train_usr.groupby('id').agg('mean')\n",
    "usr_id = df_train_usr.index.to_numpy()\n",
    "df_usr_scaled, scaler = scala_data(df_train_usr)\n",
    "plot_silhouette(df_usr_scaled)      # we find k=3 is a good clusters amount\n",
    "\n",
    "# Using kmeans to cluster\n",
    "kmeans1 = KMeans(n_clusters=3)\n",
    "kmeans1.fit(df_usr_scaled)\n",
    "\n",
    "print(f\"Cluster user:\\n{kmeans1.labels_}\")\n",
    "\n",
    "analysis_cluster_labels(kmeans1.labels_)\n",
    "\n",
    "score = silhouette_score(df_usr_scaled, kmeans1.labels_, metric='euclidean')\n",
    "# Print the score\n",
    "print('Silhouetter Score: %.3f' % score)\n",
    "\n",
    "cluster_array_1 = np.hstack((usr_id.reshape(-1,1), kmeans1.labels_.reshape(-1,1)))\n",
    "df_usr_cluster = pd.DataFrame(cluster_array_1, columns = ['id', 'usr_cluster']).astype({\"id\":\"int64\",\"usr_cluster\":\"int64\"})\n",
    "df_usr_clustered = pd.merge(df_train, df_usr_cluster, on='id')\n",
    "print(df_usr_clustered.shape, df_usr_clustered.columns)"
   ]
  },
  {
   "cell_type": "code",
   "execution_count": 354,
   "metadata": {},
   "outputs": [
    {
     "data": {
      "text/plain": [
       "['rot_rotationRate.x',\n",
       " 'rot_rotationRate.z',\n",
       " 'pca_4',\n",
       " 'pca_5',\n",
       " 'pca_6',\n",
       " 'pca_7',\n",
       " 'att_attitude.roll_temp_median_ws_30',\n",
       " 'att_attitude.roll_temp_median_ws_30.1',\n",
       " 'rot_rotationRate.x_freq_75.0_Hz_ws_40',\n",
       " 'usr_cluster']"
      ]
     },
     "execution_count": 354,
     "metadata": {},
     "output_type": "execute_result"
    }
   ],
   "source": [
    "# backward selection algorithm using decision tree and accuracy\n",
    "feat_list3 = backward_selection(10, df_usr_clustered.drop(columns=['id', 'label']), df_usr_clustered.iloc[:, -3])\n",
    "feat_list3"
   ]
  },
  {
   "cell_type": "code",
   "execution_count": 483,
   "metadata": {},
   "outputs": [],
   "source": [
    "def predict_cluster1(df_test, df_train, scaler, km):\n",
    "    if df_test.id.nunique() == df_train.id.nunique():\n",
    "        df_usr_label = df_train[['id', 'usr_cluster']].groupby('id').agg('median')\n",
    "        df_test = df_test.join(df_usr_label, on='id', how='left')\n",
    "    else:\n",
    "        df_test_usr = df_test[cluster1_feat].join(dss, on='id', how='left')\n",
    "        df_test_usr = df_test_usr.groupby('id').agg('mean')\n",
    "        usr_id = df_test_usr.index.to_numpy()\n",
    "        df_usr_scaled = scaler.transform(df_test_usr)\n",
    "        labels = km.predict(df_usr_scaled)\n",
    "        cluster_array = np.hstack((usr_id.reshape(-1,1), labels.reshape(-1,1)))\n",
    "        df_usr_cluster = pd.DataFrame(cluster_array, columns = ['id', 'usr_cluster']).astype({\"id\":\"int64\",\"usr_cluster\":\"int64\"})\n",
    "        df_test = pd.merge(df_test, df_usr_cluster, on='id')\n",
    "    return df_test\n",
    "\n",
    "def predict_cluster2(df_test, scaler, km):\n",
    "    dtp_id = df_test.index.to_numpy()\n",
    "    df_scaled = scaler.transform(df_test)\n",
    "    labels = km.predict(df_scaled)\n",
    "    cluster_array = np.hstack((dtp_id.reshape(-1,1), labels.reshape(-1,1)))\n",
    "    df_cluster = pd.DataFrame(cluster_array, columns = ['dtp_id', 'dtp_cluster']).astype({\"dtp_id\":\"int64\",\"dtp_cluster\":\"int64\"})\n",
    "    df_test['dtp_id'] = dtp_id\n",
    "    df_test = pd.merge(df_test, df_cluster, on='dtp_id', how='left')\n",
    "    print(df_test.shape, df_test.columns)\n",
    "    return df_test\n"
   ]
  },
  {
   "cell_type": "code",
   "execution_count": 376,
   "metadata": {},
   "outputs": [],
   "source": [
    "df_test1 = predict_cluster1(df_test1, df_usr_clustered, scaler, kmeans1)\n",
    "df_test2 = predict_cluster1(df_test2, df_usr_clustered, scaler, kmeans1)\n",
    "feat_list3.append('label')\n",
    "fname = 'data_selected'\n",
    "df_usr_clustered[feat_list3].to_csv(f'{fname}/train.csv', index=False)\n",
    "df_test1[feat_list3].to_csv(f'{fname}/test1.csv', index=False)\n",
    "df_test2[feat_list3].to_csv(f'{fname}/test2.csv', index=False)"
   ]
  },
  {
   "cell_type": "code",
   "execution_count": 404,
   "metadata": {},
   "outputs": [],
   "source": [
    "all_feat = list(set(feat_list3).union(set(feat_list)))\n",
    "all_feat.remove('label')\n",
    "all_feat.append('label')\n",
    "fname = 'data_selected_21'\n",
    "df_usr_clustered[all_feat].to_csv(f'{fname}/train.csv', index=False)\n",
    "df_test1[all_feat].to_csv(f'{fname}/test1.csv', index=False)\n",
    "df_test2[all_feat].to_csv(f'{fname}/test2.csv', index=False)"
   ]
  },
  {
   "cell_type": "markdown",
   "metadata": {},
   "source": [
    "Cluster all the datapoints into 18 clusters using the union of features we got from the previous stage"
   ]
  },
  {
   "cell_type": "code",
   "execution_count": 605,
   "metadata": {},
   "outputs": [
    {
     "data": {
      "text/plain": [
       "<AxesSubplot:xlabel='k', ylabel='silhouette_score'>"
      ]
     },
     "execution_count": 605,
     "metadata": {},
     "output_type": "execute_result"
    },
    {
     "data": {
      "image/png": "[encoded data removed]",
      "text/plain": [
       "<Figure size 576x396 with 1 Axes>"
      ]
     },
     "metadata": {},
     "output_type": "display_data"
    }
   ],
   "source": [
    "df_usr_clustered2 = df_usr_clustered[all_feat].iloc[:,:-1]\n",
    "df_usr_clustered_scaled, scaler = scala_data(df_usr_clustered2)\n",
    "n = [i for i in range(2,26)]\n",
    "scores = []\n",
    "for i in n:\n",
    "    '''\n",
    "    Create KMeans instance for different number of clusters\n",
    "    '''\n",
    "    km = KMeans(n_clusters=i, init='k-means++', n_init=10, max_iter=100, random_state=42)\n",
    "    km.fit(df_usr_clustered_scaled)\n",
    "    score = silhouette_score(df_usr_clustered_scaled, km.labels_, metric='euclidean')\n",
    "    scores.append(score)\n",
    "silhouette = pd.DataFrame(list(zip(n, scores)), columns =['k', 'silhouette_score'])\n",
    "sns.set_theme(style=\"whitegrid\")\n",
    "sns.lineplot(data=silhouette, x='k', y='silhouette_score')"
   ]
  },
  {
   "cell_type": "code",
   "execution_count": 651,
   "metadata": {},
   "outputs": [
    {
     "name": "stdout",
     "output_type": "stream",
     "text": [
      "Cluster user:\n",
      "[14 14  1 ...  4  4  4]\n",
      " len: 18, max: 697, min: 45, mean: 395, median: 406.5\n",
      "Silhouetter Score: 0.258\n",
      "(7118, 35) Index(['acc_userAcceleration.x', 'acc_userAcceleration.y', 'att_attitude.roll',\n",
      "       'gra_gravity.x', 'gra_gravity.z', 'rot_rotationRate.x',\n",
      "       'rot_rotationRate.z', 'pca_3', 'pca_4', 'pca_5', 'pca_6', 'pca_7',\n",
      "       'acc_userAcceleration.y_temp_std_ws_30',\n",
      "       'acc_userAcceleration.y_temp_median_ws_30',\n",
      "       'att_attitude.roll_temp_median_ws_30',\n",
      "       'att_attitude.roll_temp_median_ws_30.1', 'pca_6_temp_std_ws_30',\n",
      "       'gra_gravity.z_temp_median_ws_30', 'pca_4_temp_std_ws_30',\n",
      "       'rot_rotationRate.x_temp_std_ws_30',\n",
      "       'rot_rotationRate.z_temp_std_ws_30', 'rot_rotationRate.z_freq_weighted',\n",
      "       'att_attitude.yaw_pse', 'rot_rotationRate.x_freq_75.0_Hz_ws_40',\n",
      "       'acc_userAcceleration.x_freq_75.0_Hz_ws_40', 'gra_gravity.x_pse',\n",
      "       'mag_acc', 'mag_att', 'mag_gra', 'mag_rot', 'label', 'id',\n",
      "       'usr_cluster', 'dtp_id', 'dtp_cluster'],\n",
      "      dtype='object')\n"
     ]
    },
    {
     "name": "stderr",
     "output_type": "stream",
     "text": [
      "c:\\Users\\HHhou\\AppData\\Local\\Programs\\Python\\Python310\\lib\\site-packages\\sklearn\\manifold\\_t_sne.py:780: FutureWarning: The default initialization in TSNE will change from 'random' to 'pca' in 1.2.\n",
      "  warnings.warn(\n",
      "c:\\Users\\HHhou\\AppData\\Local\\Programs\\Python\\Python310\\lib\\site-packages\\sklearn\\manifold\\_t_sne.py:790: FutureWarning: The default learning rate in TSNE will change from 200.0 to 'auto' in 1.2.\n",
      "  warnings.warn(\n"
     ]
    },
    {
     "data": {
      "text/plain": [
       "Text(0, 0.5, 't-SNE feature 1')"
      ]
     },
     "execution_count": 651,
     "metadata": {},
     "output_type": "execute_result"
    },
    {
     "data": {
      "image/png": "[encoded data removed]",
      "text/plain": [
       "<Figure size 576x396 with 1 Axes>"
      ]
     },
     "metadata": {},
     "output_type": "display_data"
    }
   ],
   "source": [
    "kmeans2 = KMeans(n_clusters=18)\n",
    "kmeans2.fit(df_usr_clustered_scaled)\n",
    "\n",
    "print(f\"Cluster user:\\n{kmeans2.labels_}\")\n",
    "\n",
    "analysis_cluster_labels(kmeans2.labels_)\n",
    "\n",
    "score = silhouette_score(df_usr_clustered_scaled, kmeans2.labels_, metric='euclidean')\n",
    "# Print the score\n",
    "print('Silhouetter Score: %.3f' % score)\n",
    "\n",
    "dtp_id = df_usr_clustered2.index.to_numpy()\n",
    "cluster_array_2 = np.hstack((dtp_id.reshape(-1,1), kmeans2.labels_.reshape(-1,1)))\n",
    "df_cluster = pd.DataFrame(cluster_array_2, columns = ['dtp_id', 'dtp_cluster']).astype({\"dtp_id\":\"int64\",\"dtp_cluster\":\"int64\"})\n",
    "flag = False\n",
    "if flag:\n",
    "    df_usr_clustered2['dtp_id'] = dtp_id\n",
    "    df_clustered = pd.merge(df_usr_clustered2, df_cluster, on='dtp_id', how='left')\n",
    "else:\n",
    "    df_usr_clustered['dtp_id'] = dtp_id\n",
    "    df_clustered = pd.merge(df_usr_clustered, df_cluster, on='dtp_id', how='left')\n",
    "print(df_clustered.shape, df_clustered.columns)\n",
    "\n",
    "# plot kmeans center\n",
    "tsne = TSNE(random_state=42)\n",
    "digits_tsne = tsne.fit_transform(kmeans2.cluster_centers_)\n",
    "\n",
    "plt.xlim(digits_tsne[:, 0].min(), digits_tsne[:, 0].max()+1)\n",
    "plt.ylim(digits_tsne[:, 1].min(), digits_tsne[:, 1].max()+1)\n",
    "for i in range(len(kmeans2.cluster_centers_)):\n",
    "    plt.text(digits_tsne[i,0], digits_tsne[i,1], str((range(len(kmeans2.cluster_centers_)))[i]),\n",
    "        color = \"#\"+''.join([random.choice('0123456789ABCDEF') for j in range(6)]),\n",
    "        fontdict={'weight':'bold', 'size':14})\n",
    "plt.xlabel(\"t-SNE feature 0\")\n",
    "plt.ylabel(\"t-SNE feature 1\")"
   ]
  },
  {
   "cell_type": "markdown",
   "metadata": {},
   "source": [
    "Plot using TSNE"
   ]
  },
  {
   "cell_type": "code",
   "execution_count": 663,
   "metadata": {},
   "outputs": [
    {
     "name": "stderr",
     "output_type": "stream",
     "text": [
      "c:\\Users\\HHhou\\AppData\\Local\\Programs\\Python\\Python310\\lib\\site-packages\\sklearn\\manifold\\_t_sne.py:780: FutureWarning: The default initialization in TSNE will change from 'random' to 'pca' in 1.2.\n",
      "  warnings.warn(\n",
      "c:\\Users\\HHhou\\AppData\\Local\\Programs\\Python\\Python310\\lib\\site-packages\\sklearn\\manifold\\_t_sne.py:790: FutureWarning: The default learning rate in TSNE will change from 200.0 to 'auto' in 1.2.\n",
      "  warnings.warn(\n"
     ]
    },
    {
     "data": {
      "text/plain": [
       "Text(0, 0.5, 't-SNE feature 1')"
      ]
     },
     "execution_count": 663,
     "metadata": {},
     "output_type": "execute_result"
    },
    {
     "data": {
      "image/png": "[encoded data removed]",
      "text/plain": [
       "<Figure size 720x720 with 1 Axes>"
      ]
     },
     "metadata": {},
     "output_type": "display_data"
    }
   ],
   "source": [
    "#sample\n",
    "def sample(feature, label):\n",
    "    index = list(range(len(feature)))\n",
    "    sample_idx = np.random.choice(index, round(len(index)/100), replace=False)\n",
    "    sample_feature = feature[sample_idx]\n",
    "    sample_label = label[sample_idx]\n",
    "    return sample_feature, sample_label\n",
    "\n",
    "sample_feature, sample_label = sample(df_usr_clustered_scaled, kmeans2.labels_)\n",
    "tsne = TSNE(random_state=42)\n",
    "digits_tsne = tsne.fit_transform(sample_feature)\n",
    "\n",
    "plt.figure(figsize=(10,10))\n",
    "plt.xlim(digits_tsne[:, 0].min(), digits_tsne[:, 0].max()+1)\n",
    "plt.ylim(digits_tsne[:, 1].min(), digits_tsne[:, 1].max()+1)\n",
    "for i in range(len(sample_feature)):\n",
    "    plt.text(digits_tsne[i,0], digits_tsne[i,1], str(sample_label[i]),\n",
    "        color = \"#\"+''.join([random.choice('0123456789ABCDEF') for j in range(6)]),\n",
    "        fontdict={'weight':'bold', 'size':9})\n",
    "plt.xlabel(\"t-SNE feature 0\")\n",
    "plt.ylabel(\"t-SNE feature 1\")"
   ]
  },
  {
   "cell_type": "markdown",
   "metadata": {},
   "source": [
    "# Model Pipeline"
   ]
  },
  {
   "cell_type": "markdown",
   "metadata": {},
   "source": [
    "Use lgbm for all datapoints first and train 18 models for each cluster"
   ]
  },
  {
   "cell_type": "code",
   "execution_count": 652,
   "metadata": {},
   "outputs": [
    {
     "name": "stdout",
     "output_type": "stream",
     "text": [
      "--- Start fitting all data ---\n",
      "--- Start fitting the lgbm model 0 ---\n",
      "shape: (443, 34)\n",
      "shape of proba (443, 2)\n",
      "--- Start fitting the lgbm model 1 ---\n",
      "shape: (606, 34)\n",
      "shape of proba (606, 5)\n",
      "--- Start fitting the lgbm model 2 ---\n",
      "shape: (697, 34)\n",
      "shape of proba (697, 2)\n",
      "--- Start fitting the lgbm model 3 ---\n",
      "shape: (507, 34)\n",
      "shape of proba (507, 6)\n",
      "--- Start fitting the lgbm model 4 ---\n",
      "shape: (403, 34)\n",
      "shape of proba (403, 5)\n",
      "--- Start fitting the lgbm model 5 ---\n",
      "shape: (188, 34)\n",
      "shape of proba (188, 4)\n",
      "--- Start fitting the lgbm model 6 ---\n",
      "shape: (410, 34)\n",
      "shape of proba (410, 3)\n",
      "--- Start fitting the lgbm model 7 ---\n",
      "shape: (45, 34)\n",
      "shape of proba (45, 2)\n",
      "--- Start fitting the lgbm model 8 ---\n",
      "shape: (433, 34)\n",
      "shape of proba (433, 5)\n",
      "--- Start fitting the lgbm model 9 ---\n",
      "shape: (399, 34)\n",
      "shape of proba (399, 3)\n",
      "--- Start fitting the lgbm model 10 ---\n",
      "shape: (312, 34)\n",
      "shape of proba (312, 4)\n",
      "--- Start fitting the lgbm model 11 ---\n",
      "shape: (659, 34)\n",
      "shape of proba (659, 6)\n",
      "--- Start fitting the lgbm model 12 ---\n",
      "shape: (472, 34)\n",
      "shape of proba (472, 4)\n",
      "--- Start fitting the lgbm model 13 ---\n",
      "shape: (309, 34)\n",
      "shape of proba (309, 4)\n",
      "--- Start fitting the lgbm model 14 ---\n",
      "shape: (446, 34)\n",
      "shape of proba (446, 4)\n",
      "--- Start fitting the lgbm model 15 ---\n",
      "shape: (307, 34)\n",
      "shape of proba (307, 4)\n",
      "--- Start fitting the lgbm model 16 ---\n",
      "shape: (215, 34)\n",
      "shape of proba (215, 5)\n",
      "--- Start fitting the lgbm model 17 ---\n",
      "shape: (267, 34)\n",
      "shape of proba (267, 5)\n",
      "shape: (7118, 46)\n"
     ]
    },
    {
     "data": {
      "text/html": [
       "<div>\n",
       "<style scoped>\n",
       "    .dataframe tbody tr th:only-of-type {\n",
       "        vertical-align: middle;\n",
       "    }\n",
       "\n",
       "    .dataframe tbody tr th {\n",
       "        vertical-align: top;\n",
       "    }\n",
       "\n",
       "    .dataframe thead th {\n",
       "        text-align: right;\n",
       "    }\n",
       "</style>\n",
       "<table border=\"1\" class=\"dataframe\">\n",
       "  <thead>\n",
       "    <tr style=\"text-align: right;\">\n",
       "      <th></th>\n",
       "      <th>acc_userAcceleration.x</th>\n",
       "      <th>acc_userAcceleration.y</th>\n",
       "      <th>att_attitude.roll</th>\n",
       "      <th>gra_gravity.x</th>\n",
       "      <th>gra_gravity.z</th>\n",
       "      <th>rot_rotationRate.x</th>\n",
       "      <th>rot_rotationRate.z</th>\n",
       "      <th>pca_3</th>\n",
       "      <th>pca_4</th>\n",
       "      <th>pca_5</th>\n",
       "      <th>...</th>\n",
       "      <th>proba_all_2</th>\n",
       "      <th>proba_all_3</th>\n",
       "      <th>proba_all_4</th>\n",
       "      <th>proba_all_5</th>\n",
       "      <th>proba_cl_0</th>\n",
       "      <th>proba_cl_1</th>\n",
       "      <th>proba_cl_2</th>\n",
       "      <th>proba_cl_3</th>\n",
       "      <th>proba_cl_4</th>\n",
       "      <th>proba_cl_5</th>\n",
       "    </tr>\n",
       "  </thead>\n",
       "  <tbody>\n",
       "    <tr>\n",
       "      <th>0</th>\n",
       "      <td>0.008224</td>\n",
       "      <td>-0.027709</td>\n",
       "      <td>-2.550401</td>\n",
       "      <td>-0.549039</td>\n",
       "      <td>0.817897</td>\n",
       "      <td>0.006172</td>\n",
       "      <td>-0.000414</td>\n",
       "      <td>0.137539</td>\n",
       "      <td>-0.014902</td>\n",
       "      <td>0.038204</td>\n",
       "      <td>...</td>\n",
       "      <td>8.120488e-08</td>\n",
       "      <td>3.831255e-11</td>\n",
       "      <td>2.208651e-09</td>\n",
       "      <td>1.0</td>\n",
       "      <td>0.0</td>\n",
       "      <td>0.0</td>\n",
       "      <td>0.0</td>\n",
       "      <td>0.0</td>\n",
       "      <td>9.104560e-07</td>\n",
       "      <td>0.999999</td>\n",
       "    </tr>\n",
       "    <tr>\n",
       "      <th>1</th>\n",
       "      <td>0.010263</td>\n",
       "      <td>-0.029422</td>\n",
       "      <td>-2.536028</td>\n",
       "      <td>-0.560950</td>\n",
       "      <td>0.810225</td>\n",
       "      <td>-0.001317</td>\n",
       "      <td>0.008138</td>\n",
       "      <td>0.140875</td>\n",
       "      <td>-0.014688</td>\n",
       "      <td>0.039928</td>\n",
       "      <td>...</td>\n",
       "      <td>3.240896e-09</td>\n",
       "      <td>4.366809e-13</td>\n",
       "      <td>1.020932e-07</td>\n",
       "      <td>1.0</td>\n",
       "      <td>0.0</td>\n",
       "      <td>0.0</td>\n",
       "      <td>0.0</td>\n",
       "      <td>0.0</td>\n",
       "      <td>9.104560e-07</td>\n",
       "      <td>0.999999</td>\n",
       "    </tr>\n",
       "    <tr>\n",
       "      <th>2</th>\n",
       "      <td>0.011912</td>\n",
       "      <td>-0.031803</td>\n",
       "      <td>-2.544372</td>\n",
       "      <td>-0.553837</td>\n",
       "      <td>0.814389</td>\n",
       "      <td>-0.011279</td>\n",
       "      <td>0.014123</td>\n",
       "      <td>0.139565</td>\n",
       "      <td>-0.013087</td>\n",
       "      <td>0.037571</td>\n",
       "      <td>...</td>\n",
       "      <td>3.089325e-11</td>\n",
       "      <td>8.713387e-13</td>\n",
       "      <td>2.501363e-08</td>\n",
       "      <td>1.0</td>\n",
       "      <td>0.0</td>\n",
       "      <td>0.0</td>\n",
       "      <td>0.0</td>\n",
       "      <td>0.0</td>\n",
       "      <td>9.104494e-07</td>\n",
       "      <td>0.999999</td>\n",
       "    </tr>\n",
       "    <tr>\n",
       "      <th>3</th>\n",
       "      <td>0.012877</td>\n",
       "      <td>-0.034958</td>\n",
       "      <td>-2.542689</td>\n",
       "      <td>-0.554895</td>\n",
       "      <td>0.812998</td>\n",
       "      <td>-0.000807</td>\n",
       "      <td>0.005683</td>\n",
       "      <td>0.138618</td>\n",
       "      <td>-0.013328</td>\n",
       "      <td>0.036866</td>\n",
       "      <td>...</td>\n",
       "      <td>2.444584e-11</td>\n",
       "      <td>5.618298e-13</td>\n",
       "      <td>4.089931e-08</td>\n",
       "      <td>1.0</td>\n",
       "      <td>0.0</td>\n",
       "      <td>0.0</td>\n",
       "      <td>0.0</td>\n",
       "      <td>0.0</td>\n",
       "      <td>9.104494e-07</td>\n",
       "      <td>0.999999</td>\n",
       "    </tr>\n",
       "    <tr>\n",
       "      <th>4</th>\n",
       "      <td>0.014103</td>\n",
       "      <td>-0.039472</td>\n",
       "      <td>-2.540982</td>\n",
       "      <td>-0.556045</td>\n",
       "      <td>0.811703</td>\n",
       "      <td>-0.000299</td>\n",
       "      <td>0.001625</td>\n",
       "      <td>0.138487</td>\n",
       "      <td>-0.012966</td>\n",
       "      <td>0.036398</td>\n",
       "      <td>...</td>\n",
       "      <td>3.202508e-11</td>\n",
       "      <td>6.002404e-13</td>\n",
       "      <td>3.719703e-08</td>\n",
       "      <td>1.0</td>\n",
       "      <td>0.0</td>\n",
       "      <td>0.0</td>\n",
       "      <td>0.0</td>\n",
       "      <td>0.0</td>\n",
       "      <td>9.104494e-07</td>\n",
       "      <td>0.999999</td>\n",
       "    </tr>\n",
       "  </tbody>\n",
       "</table>\n",
       "<p>5 rows × 46 columns</p>\n",
       "</div>"
      ],
      "text/plain": [
       "   acc_userAcceleration.x  acc_userAcceleration.y  att_attitude.roll  \\\n",
       "0                0.008224               -0.027709          -2.550401   \n",
       "1                0.010263               -0.029422          -2.536028   \n",
       "2                0.011912               -0.031803          -2.544372   \n",
       "3                0.012877               -0.034958          -2.542689   \n",
       "4                0.014103               -0.039472          -2.540982   \n",
       "\n",
       "   gra_gravity.x  gra_gravity.z  rot_rotationRate.x  rot_rotationRate.z  \\\n",
       "0      -0.549039       0.817897            0.006172           -0.000414   \n",
       "1      -0.560950       0.810225           -0.001317            0.008138   \n",
       "2      -0.553837       0.814389           -0.011279            0.014123   \n",
       "3      -0.554895       0.812998           -0.000807            0.005683   \n",
       "4      -0.556045       0.811703           -0.000299            0.001625   \n",
       "\n",
       "      pca_3     pca_4     pca_5  ...   proba_all_2   proba_all_3  \\\n",
       "0  0.137539 -0.014902  0.038204  ...  8.120488e-08  3.831255e-11   \n",
       "1  0.140875 -0.014688  0.039928  ...  3.240896e-09  4.366809e-13   \n",
       "2  0.139565 -0.013087  0.037571  ...  3.089325e-11  8.713387e-13   \n",
       "3  0.138618 -0.013328  0.036866  ...  2.444584e-11  5.618298e-13   \n",
       "4  0.138487 -0.012966  0.036398  ...  3.202508e-11  6.002404e-13   \n",
       "\n",
       "    proba_all_4  proba_all_5  proba_cl_0  proba_cl_1  proba_cl_2  proba_cl_3  \\\n",
       "0  2.208651e-09          1.0         0.0         0.0         0.0         0.0   \n",
       "1  1.020932e-07          1.0         0.0         0.0         0.0         0.0   \n",
       "2  2.501363e-08          1.0         0.0         0.0         0.0         0.0   \n",
       "3  4.089931e-08          1.0         0.0         0.0         0.0         0.0   \n",
       "4  3.719703e-08          1.0         0.0         0.0         0.0         0.0   \n",
       "\n",
       "     proba_cl_4  proba_cl_5  \n",
       "0  9.104560e-07    0.999999  \n",
       "1  9.104560e-07    0.999999  \n",
       "2  9.104494e-07    0.999999  \n",
       "3  9.104494e-07    0.999999  \n",
       "4  9.104494e-07    0.999999  \n",
       "\n",
       "[5 rows x 46 columns]"
      ]
     },
     "execution_count": 652,
     "metadata": {},
     "output_type": "execute_result"
    }
   ],
   "source": [
    "pd.options.mode.chained_assignment = None  # default='warn'\n",
    "df_clustered['label'] = df_usr_clustered.label\n",
    "df_train_clustered = df_clustered.drop(columns=['dtp_id'])\n",
    "\n",
    "y = df_train_clustered.label\n",
    "X = df_train_clustered.drop('label', axis=1)\n",
    "\n",
    "# model pipeline\n",
    "lgbm = LGBMClassifier(n_estimators=5000)\n",
    "\n",
    "print(f'--- Start fitting all data ---')\n",
    "lgbm.fit(X, y)\n",
    "proba = lgbm.predict_proba(X)\n",
    "for l in [l for l in range(df_train_clustered.label.nunique())]:\n",
    "    df_train_clustered[f'proba_all_{l}'] = proba[:, l]\n",
    "\n",
    "model_cnt = int(df_train_clustered.dtp_cluster.nunique())\n",
    "li = []\n",
    "names = locals()\n",
    "for i in [i for i in range(model_cnt)]:\n",
    "    print(f'--- Start fitting the lgbm model {i} ---')\n",
    "    X_clustered = df_train_clustered[df_train_clustered.dtp_cluster == i]\n",
    "    drop_list = [i for i in X_clustered.columns if 'proba' not in i]\n",
    "    X_cl = X_clustered[drop_list]\n",
    "    print(f'shape: {X_cl.shape}')\n",
    "    y_train = X_cl.label\n",
    "    X_train = X_cl.drop('label', axis=1)\n",
    "    names['cluster_lgbm' + str(i) ] = LGBMClassifier(n_estimators=500)\n",
    "    names.get('cluster_lgbm' + str(i)).fit(X_train, y_train)\n",
    "    predict = names.get('cluster_lgbm' + str(i)).predict(X_train)\n",
    "    proba = names.get('cluster_lgbm' + str(i)).predict_proba(X_train)\n",
    "    print(f'shape of proba {proba.shape}')\n",
    "    j = 0\n",
    "    for l in [l for l in range(df_train_clustered.label.nunique())]:\n",
    "        if l in np.unique(predict):\n",
    "            X_clustered[f'proba_cl_{l}'] = proba[:, j]\n",
    "            j += 1\n",
    "        else:\n",
    "            X_clustered[f'proba_cl_{l}'] = 0\n",
    "    li.append(X_clustered)\n",
    "df_train_proba = pd.concat(li, axis=0, ignore_index=True)\n",
    "print(f'shape: {df_train_proba.shape}')\n",
    "df_train_proba.head()"
   ]
  },
  {
   "cell_type": "markdown",
   "metadata": {},
   "source": [
    "Ensemble Using MLP"
   ]
  },
  {
   "cell_type": "code",
   "execution_count": 653,
   "metadata": {},
   "outputs": [
    {
     "name": "stdout",
     "output_type": "stream",
     "text": [
      "Training accuarcy: 1.0\n"
     ]
    }
   ],
   "source": [
    "# we got 12 probability value\n",
    "df_train_proba = df_train_proba.sample(frac=1).reset_index(drop=True)\n",
    "prob_list = [i for i in df_train_proba.columns if 'proba' in i]\n",
    "X = df_train_proba[prob_list]\n",
    "y = df_train_proba.label\n",
    "\n",
    "mlp = MLPClassifier()\n",
    "mlp.fit(X,y)\n",
    "y_pred = mlp.predict(X)\n",
    "print(f'Training accuarcy: {accuracy_score(y, y_pred)}')"
   ]
  },
  {
   "cell_type": "markdown",
   "metadata": {},
   "source": [
    "Predict test1"
   ]
  },
  {
   "cell_type": "code",
   "execution_count": 654,
   "metadata": {},
   "outputs": [
    {
     "name": "stdout",
     "output_type": "stream",
     "text": [
      "(1196, 24) Index(['rot_rotationRate.z_temp_std_ws_30', 'mag_rot', 'mag_gra', 'pca_6',\n",
      "       'acc_userAcceleration.y_temp_median_ws_30', 'usr_cluster',\n",
      "       'pca_6_temp_std_ws_30', 'rot_rotationRate.z', 'pca_4',\n",
      "       'rot_rotationRate.x_freq_75.0_Hz_ws_40', 'rot_rotationRate.x',\n",
      "       'rot_rotationRate.z_freq_weighted', 'pca_4_temp_std_ws_30',\n",
      "       'gra_gravity.z_temp_median_ws_30', 'pca_5',\n",
      "       'acc_userAcceleration.y_temp_std_ws_30',\n",
      "       'att_attitude.roll_temp_median_ws_30.1',\n",
      "       'rot_rotationRate.x_temp_std_ws_30', 'acc_userAcceleration.y',\n",
      "       'att_attitude.roll_temp_median_ws_30', 'pca_7', 'mag_acc', 'dtp_id',\n",
      "       'dtp_cluster'],\n",
      "      dtype='object')\n",
      "Training accuarcy: 0.931438127090301\n",
      "F1: 0.915\n",
      "--- Start perdicting the lgbm model 1 ---\n",
      "shape of proba (25, 5)\n",
      "--- Start perdicting the lgbm model 2 ---\n",
      "shape of proba (184, 2)\n",
      "--- Start perdicting the lgbm model 4 ---\n",
      "shape of proba (248, 5)\n",
      "--- Start perdicting the lgbm model 5 ---\n",
      "shape of proba (26, 4)\n",
      "--- Start perdicting the lgbm model 8 ---\n",
      "shape of proba (169, 5)\n",
      "--- Start perdicting the lgbm model 10 ---\n",
      "shape of proba (117, 4)\n",
      "--- Start perdicting the lgbm model 13 ---\n",
      "shape of proba (124, 4)\n",
      "--- Start perdicting the lgbm model 14 ---\n",
      "shape of proba (175, 4)\n",
      "--- Start perdicting the lgbm model 15 ---\n",
      "shape of proba (124, 4)\n",
      "--- Start perdicting the lgbm model 16 ---\n",
      "shape of proba (1, 5)\n",
      "--- Start perdicting the lgbm model 17 ---\n",
      "shape of proba (3, 5)\n",
      "shape of test1: (1196, 46)\n",
      "Training accuarcy: 0.8160535117056856\n",
      "F1: 0.813\n"
     ]
    }
   ],
   "source": [
    "df_test1_clustered = predict_cluster2(df_test1[all_feat].iloc[:,:-1], scaler, kmeans2)\n",
    "df_test1_clustered['label'] = df_test1.label\n",
    "df_test1_clustered.drop(columns=['dtp_id'], inplace=True)\n",
    "if not flag:\n",
    "    df_test = df_test1.copy()\n",
    "    df_test['dtp_cluster'] = df_test1_clustered.dtp_cluster\n",
    "    df_test1_clustered = df_test.copy()\n",
    "\n",
    "y_test1 = df_test1_clustered.label\n",
    "X_test1 = df_test1_clustered.drop('label', axis=1)\n",
    "li = []\n",
    "# y_test2 = df_test2_clustered.label\n",
    "# X_test2 = df_test2_clustered.drop('label', axis=1)\n",
    "proba = lgbm.predict_proba(X_test1)\n",
    "y_pred = lgbm.predict(X_test1)\n",
    "print(f'Training accuarcy: {accuracy_score(y_test1, y_pred)}')\n",
    "print(f\"F1: {f1_score(y_test1, y_pred, average='macro'):.3f}\")\n",
    "\n",
    "for l in [l for l in range(df_test1_clustered.label.nunique())]:\n",
    "    df_test1_clustered[f'proba_all_{l}'] = proba[:, l]\n",
    "\n",
    "for i in [i for i in range(model_cnt)]:\n",
    "    if i in df_test1_clustered.dtp_cluster.unique():\n",
    "        print(f'--- Start perdicting the lgbm model {i} ---')\n",
    "        X_clustered = df_test1_clustered[df_test1_clustered.dtp_cluster == i]\n",
    "        drop_list = [i for i in X_clustered.columns if 'proba' not in i]\n",
    "        X_cl = X_clustered[drop_list]\n",
    "        X_test1 = X_cl.drop('label', axis=1)\n",
    "        proba = names.get('cluster_lgbm' + str(i)).predict_proba(X_test1)\n",
    "        predict = names.get('cluster_lgbm' + str(i)).predict(X_test1)\n",
    "        print(f'shape of proba {proba.shape}')\n",
    "        j = 0\n",
    "        for l in [l for l in range(df_test1_clustered.label.nunique())]:\n",
    "            if l in np.unique(predict):\n",
    "                X_clustered[f'proba_cl_{l}'] = proba[:, j]\n",
    "                j += 1\n",
    "            else:\n",
    "                X_clustered[f'proba_cl_{l}'] = 0\n",
    "        li.append(X_clustered)\n",
    "df_test1_proba = pd.concat(li, axis=0, ignore_index=True)\n",
    "print(f'shape of test1: {df_test1_proba.shape}')\n",
    "\n",
    "prob_list = [i for i in df_test1_proba.columns if 'proba' in i]\n",
    "X = df_test1_proba[prob_list]\n",
    "y = df_test1_proba.label\n",
    "\n",
    "y_pred = mlp.predict(X)\n",
    "print(f'Training accuarcy: {accuracy_score(y, y_pred)}')\n",
    "print(f\"F1: {f1_score(y, y_pred, average='macro'):.3f}\")"
   ]
  },
  {
   "cell_type": "markdown",
   "metadata": {},
   "source": [
    "Predict test2"
   ]
  },
  {
   "cell_type": "code",
   "execution_count": 655,
   "metadata": {},
   "outputs": [
    {
     "name": "stdout",
     "output_type": "stream",
     "text": [
      "(1771, 24) Index(['rot_rotationRate.z_temp_std_ws_30', 'mag_rot', 'mag_gra', 'pca_6',\n",
      "       'acc_userAcceleration.y_temp_median_ws_30', 'usr_cluster',\n",
      "       'pca_6_temp_std_ws_30', 'rot_rotationRate.z', 'pca_4',\n",
      "       'rot_rotationRate.x_freq_75.0_Hz_ws_40', 'rot_rotationRate.x',\n",
      "       'rot_rotationRate.z_freq_weighted', 'pca_4_temp_std_ws_30',\n",
      "       'gra_gravity.z_temp_median_ws_30', 'pca_5',\n",
      "       'acc_userAcceleration.y_temp_std_ws_30',\n",
      "       'att_attitude.roll_temp_median_ws_30.1',\n",
      "       'rot_rotationRate.x_temp_std_ws_30', 'acc_userAcceleration.y',\n",
      "       'att_attitude.roll_temp_median_ws_30', 'pca_7', 'mag_acc', 'dtp_id',\n",
      "       'dtp_cluster'],\n",
      "      dtype='object')\n",
      "Training accuarcy: 0.9836250705815923\n",
      "F1: 0.977\n",
      "--- Start perdicting the lgbm model 0 ---\n",
      "shape of proba (103, 2)\n",
      "--- Start perdicting the lgbm model 1 ---\n",
      "shape of proba (145, 5)\n",
      "--- Start perdicting the lgbm model 2 ---\n",
      "shape of proba (175, 2)\n",
      "--- Start perdicting the lgbm model 3 ---\n",
      "shape of proba (137, 6)\n",
      "--- Start perdicting the lgbm model 4 ---\n",
      "shape of proba (96, 5)\n",
      "--- Start perdicting the lgbm model 5 ---\n",
      "shape of proba (50, 4)\n",
      "--- Start perdicting the lgbm model 6 ---\n",
      "shape of proba (90, 3)\n",
      "--- Start perdicting the lgbm model 7 ---\n",
      "shape of proba (7, 2)\n",
      "--- Start perdicting the lgbm model 8 ---\n",
      "shape of proba (118, 5)\n",
      "--- Start perdicting the lgbm model 9 ---\n",
      "shape of proba (102, 3)\n",
      "--- Start perdicting the lgbm model 10 ---\n",
      "shape of proba (80, 4)\n",
      "--- Start perdicting the lgbm model 11 ---\n",
      "shape of proba (154, 6)\n",
      "--- Start perdicting the lgbm model 12 ---\n",
      "shape of proba (116, 4)\n",
      "--- Start perdicting the lgbm model 13 ---\n",
      "shape of proba (79, 4)\n",
      "--- Start perdicting the lgbm model 14 ---\n",
      "shape of proba (130, 4)\n",
      "--- Start perdicting the lgbm model 15 ---\n",
      "shape of proba (60, 4)\n",
      "--- Start perdicting the lgbm model 16 ---\n",
      "shape of proba (54, 5)\n",
      "--- Start perdicting the lgbm model 17 ---\n",
      "shape of proba (75, 5)\n",
      "shape of test1: (1771, 46)\n",
      "Training accuarcy: 0.9311123658949746\n",
      "F1: 0.935\n"
     ]
    }
   ],
   "source": [
    "df_test2_clustered = predict_cluster2(df_test2[all_feat].iloc[:,:-1], scaler, kmeans2)\n",
    "df_test2_clustered['label'] = df_test2.label\n",
    "df_test2_clustered.drop(columns=['dtp_id'], inplace=True)\n",
    "if not flag:\n",
    "    df_test = df_test2.copy()\n",
    "    df_test['dtp_cluster'] = df_test2_clustered.dtp_cluster\n",
    "    df_test2_clustered = df_test.copy()\n",
    "\n",
    "li = []\n",
    "y_test2 = df_test2_clustered.label\n",
    "X_test2 = df_test2_clustered.drop('label', axis=1)\n",
    "proba = lgbm.predict_proba(X_test2)\n",
    "y_pred = lgbm.predict(X_test2)\n",
    "print(f'Training accuarcy: {accuracy_score(y_test2, y_pred)}')\n",
    "print(f\"F1: {f1_score(y_test2, y_pred, average='macro'):.3f}\")\n",
    "\n",
    "for l in [l for l in range(df_test2_clustered.label.nunique())]:\n",
    "    df_test2_clustered[f'proba_all_{l}'] = proba[:, l]\n",
    "\n",
    "for i in [i for i in range(model_cnt)]:\n",
    "    if i in df_test2_clustered.dtp_cluster.unique():\n",
    "        print(f'--- Start perdicting the lgbm model {i} ---')\n",
    "        X_clustered = df_test2_clustered[df_test2_clustered.dtp_cluster == i]\n",
    "        drop_list = [i for i in X_clustered.columns if 'proba' not in i]\n",
    "        X_cl = X_clustered[drop_list]\n",
    "        X_test1 = X_cl.drop('label', axis=1)\n",
    "        proba = names.get('cluster_lgbm' + str(i)).predict_proba(X_test1)\n",
    "        predict = names.get('cluster_lgbm' + str(i)).predict(X_test1)\n",
    "        print(f'shape of proba {proba.shape}')\n",
    "        j = 0\n",
    "        for l in [l for l in range(df_test2_clustered.label.nunique())]:\n",
    "            if l in np.unique(predict):\n",
    "                X_clustered[f'proba_cl_{l}'] = proba[:, j]\n",
    "                j += 1\n",
    "            else:\n",
    "                X_clustered[f'proba_cl_{l}'] = 0\n",
    "        li.append(X_clustered)\n",
    "df_test2_proba = pd.concat(li, axis=0, ignore_index=True)\n",
    "print(f'shape of test1: {df_test2_proba.shape}')\n",
    "\n",
    "prob_list = [i for i in df_test2_proba.columns if 'proba' in i]\n",
    "X = df_test2_proba[prob_list]\n",
    "y = df_test2_proba.label\n",
    "\n",
    "y_pred = mlp.predict(X)\n",
    "print(f'Training accuarcy: {accuracy_score(y, y_pred)}')\n",
    "print(f\"F1: {f1_score(y, y_pred, average='macro'):.3f}\")"
   ]
  },
  {
   "cell_type": "markdown",
   "metadata": {},
   "source": [
    "Plot results"
   ]
  },
  {
   "cell_type": "code",
   "execution_count": 656,
   "metadata": {},
   "outputs": [
    {
     "name": "stderr",
     "output_type": "stream",
     "text": [
      "c:\\Users\\HHhou\\AppData\\Local\\Programs\\Python\\Python310\\lib\\site-packages\\sklearn\\utils\\deprecation.py:87: FutureWarning: Function plot_confusion_matrix is deprecated; Function `plot_confusion_matrix` is deprecated in 1.0 and will be removed in 1.2. Use one of the class methods: ConfusionMatrixDisplay.from_predictions or ConfusionMatrixDisplay.from_estimator.\n",
      "  warnings.warn(msg, category=FutureWarning)\n"
     ]
    },
    {
     "data": {
      "text/plain": [
       "<sklearn.metrics._plot.confusion_matrix.ConfusionMatrixDisplay at 0x18da30d21d0>"
      ]
     },
     "execution_count": 656,
     "metadata": {},
     "output_type": "execute_result"
    },
    {
     "data": {
      "image/png": "[encoded data removed]",
      "text/plain": [
       "<Figure size 576x396 with 2 Axes>"
      ]
     },
     "metadata": {},
     "output_type": "display_data"
    }
   ],
   "source": [
    "sns.set_theme(style=\"white\", palette=None)\n",
    "plot_confusion_matrix(lgbm, X=X_test2, y_true=y_test2, labels=lgbm.classes_, cmap='Blues')"
   ]
  },
  {
   "cell_type": "code",
   "execution_count": 664,
   "metadata": {},
   "outputs": [],
   "source": [
    "def plot_feature_importance(model, feature_names):\n",
    "    feature_importances = model.feature_importances_\n",
    "    idxSorted = np.argsort(feature_importances)[-14:]\n",
    "    barPos = np.arange(idxSorted.shape[0]) + .5\n",
    "    plt.barh(barPos, feature_importances[idxSorted], align='center')\n",
    "    plt.yticks(barPos, feature_names[idxSorted])\n",
    "    plt.xlabel('Feature Importance')\n",
    "    plt.subplots_adjust(left=0.2, right=0.9, top=0.9, bottom=0.1)\n",
    "    plt.show()"
   ]
  },
  {
   "cell_type": "code",
   "execution_count": 665,
   "metadata": {},
   "outputs": [
    {
     "data": {
      "image/png": "[encoded data removed]",
      "text/plain": [
       "<Figure size 576x396 with 1 Axes>"
      ]
     },
     "metadata": {},
     "output_type": "display_data"
    }
   ],
   "source": [
    "plot_feature_importance(lgbm, X_test2.columns)"
   ]
  }
 ],
 "metadata": {
  "kernelspec": {
   "display_name": "Python 3.10.1 64-bit",
   "language": "python",
   "name": "python3"
  },
  "language_info": {
   "codemirror_mode": {
    "name": "ipython",
    "version": 3
   },
   "file_extension": ".py",
   "mimetype": "text/x-python",
   "name": "python",
   "nbconvert_exporter": "python",
   "pygments_lexer": "ipython3",
   "version": "3.10.1"
  },
  "orig_nbformat": 4,
  "vscode": {
   "interpreter": {
    "hash": "1fecf0e7fa47ec4fab4935ded5113f4344037ea246541a4abe0d99c536002764"
   }
  }
 },
 "nbformat": 4,
 "nbformat_minor": 2
}
